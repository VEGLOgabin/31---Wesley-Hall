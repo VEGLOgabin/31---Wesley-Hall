{
 "cells": [
  {
   "cell_type": "code",
   "execution_count": 1,
   "metadata": {},
   "outputs": [
    {
     "name": "stderr",
     "output_type": "stream",
     "text": [
      "/usr/lib/python3/dist-packages/requests/__init__.py:89: RequestsDependencyWarning: urllib3 (2.2.3) or chardet (3.0.4) doesn't match a supported version!\n",
      "  warnings.warn(\"urllib3 ({}) or chardet ({}) doesn't match a supported \"\n"
     ]
    }
   ],
   "source": [
    "from bs4 import BeautifulSoup\n",
    "import requests"
   ]
  },
  {
   "cell_type": "code",
   "execution_count": 15,
   "metadata": {},
   "outputs": [],
   "source": [
    "req = requests.get(\"https://www.wesleyhall.com/styledetail/wh/id/550-A/rid/77/cat/BAR/wc/\")"
   ]
  },
  {
   "cell_type": "code",
   "execution_count": 3,
   "metadata": {},
   "outputs": [
    {
     "data": {
      "text/plain": [
       "200"
      ]
     },
     "execution_count": 3,
     "metadata": {},
     "output_type": "execute_result"
    }
   ],
   "source": [
    "req.status_code"
   ]
  },
  {
   "cell_type": "code",
   "execution_count": 16,
   "metadata": {},
   "outputs": [],
   "source": [
    "soup = BeautifulSoup(req.content, \"html.parser\")"
   ]
  },
  {
   "cell_type": "code",
   "execution_count": 5,
   "metadata": {},
   "outputs": [
    {
     "data": {
      "text/plain": [
       "'Wesley Hall Products'"
      ]
     },
     "execution_count": 5,
     "metadata": {},
     "output_type": "execute_result"
    }
   ],
   "source": [
    "soup.title.text.strip()"
   ]
  },
  {
   "cell_type": "code",
   "execution_count": 17,
   "metadata": {},
   "outputs": [],
   "source": [
    "# Saving the prettified HTML to a file\n",
    "with open(\"product.html\", \"w\", encoding=\"utf-8\") as file:\n",
    "    file.write(soup.prettify())"
   ]
  },
  {
   "cell_type": "code",
   "execution_count": 6,
   "metadata": {},
   "outputs": [],
   "source": [
    "products = soup.find_all(\"div\", class_ = \"pure-u-1 pure-u-sm-8-24 pure-u-lg-1-5 style_thumbs\")"
   ]
  },
  {
   "cell_type": "code",
   "execution_count": 7,
   "metadata": {},
   "outputs": [
    {
     "data": {
      "text/plain": [
       "126"
      ]
     },
     "execution_count": 7,
     "metadata": {},
     "output_type": "execute_result"
    }
   ],
   "source": [
    "len(products)"
   ]
  },
  {
   "cell_type": "code",
   "execution_count": 8,
   "metadata": {},
   "outputs": [],
   "source": [
    "categories  = soup.find('ul', class_ = \"pure-menu-children\")"
   ]
  },
  {
   "cell_type": "code",
   "execution_count": 9,
   "metadata": {},
   "outputs": [
    {
     "data": {
      "text/plain": [
       "<ul class=\"pure-menu-children\">\n",
       "<li class=\"pure-menu-item pure-menu-has-children pure-menu-allow-hover custom-restricted-width\">\n",
       "<a class=\"pure-menu-link\" href=\"#\">Fabric Upholstery</a>\n",
       "<ul class=\"pure-menu-children\">\n",
       "<li class=\"pure-menu-item\"><a class=\"pure-menu-link\" href=\"/styles/whatsnew/cat/UWN\">What's New</a></li>\n",
       "<li class=\"pure-menu-item\"><a class=\"pure-menu-link\" href=\"/styles/func/cat/SOF\">Sofas, Loveseats &amp; Sleepers</a></li>\n",
       "<li class=\"pure-menu-item\"><a class=\"pure-menu-link\" href=\"/styles/func/cat/SEC\">Sectionals</a></li>\n",
       "<li class=\"pure-menu-item\"><a class=\"pure-menu-link\" href=\"/styles/func/cat/TBC\">PITCH PERFECT Tilt Back Chairs</a></li>\n",
       "<li class=\"pure-menu-item\"><a class=\"pure-menu-link\" href=\"/styles/func/cat/CHR\">Chairs</a></li>\n",
       "<li class=\"pure-menu-item\"><a class=\"pure-menu-link\" href=\"/styles/func/cat/OTT\">Decorative Ottomans</a></li>\n",
       "<li class=\"pure-menu-item\"><a class=\"pure-menu-link\" href=\"/styles/func/cat/BCH\">Benches</a></li>\n",
       "</ul>\n",
       "</li>\n",
       "<li class=\"pure-menu-item pure-menu-has-children pure-menu-allow-hover custom-restricted-width\">\n",
       "<a class=\"pure-menu-link\" href=\"#\">Leather Upholstery</a>\n",
       "<ul class=\"pure-menu-children\">\n",
       "<li class=\"pure-menu-item\"><a class=\"pure-menu-link\" href=\"/styles/whatsnew/cat/LWN\">What's New</a></li>\n",
       "<li class=\"pure-menu-item\"><a class=\"pure-menu-link\" href=\"/styles/func/cat/LSO\">Sofas, Loveseats &amp; Sleepers</a></li>\n",
       "<li class=\"pure-menu-item\"><a class=\"pure-menu-link\" href=\"/styles/func/cat/LSE\">Sectionals</a></li>\n",
       "<li class=\"pure-menu-item\"><a class=\"pure-menu-link\" href=\"/styles/func/cat/TBL\">PITCH PERFECT Tilt Back Chairs</a></li>\n",
       "<li class=\"pure-menu-item\"><a class=\"pure-menu-link\" href=\"/styles/func/cat/LCH\">Chairs</a></li>\n",
       "<li class=\"pure-menu-item\"><a class=\"pure-menu-link\" href=\"/styles/func/cat/LOT\">Decorative Ottomans</a></li>\n",
       "<li class=\"pure-menu-item\"><a class=\"pure-menu-link\" href=\"/styles/func/cat/LBC\">Benches</a></li>\n",
       "</ul>\n",
       "</li>\n",
       "<li class=\"pure-menu-item\"><a class=\"pure-menu-link\" href=\"/styles/func/cat/ODC\">Outdoor</a></li>\n",
       "<li class=\"pure-menu-item\"><a class=\"pure-menu-link\" href=\"/signature_elements\">Build Your Own</a></li>\n",
       "<li class=\"pure-menu-item\"><a class=\"pure-menu-link\" href=\"/styles/func/cat/BWS\">Bunny Williams for Wesley Hall</a></li>\n",
       "<li class=\"pure-menu-item\"><a class=\"pure-menu-link\" href=\"/styles/func/cat/PJA\">Wesley Hall With Peter Jacob</a></li>\n",
       "<li class=\"pure-menu-item\"><a class=\"pure-menu-link\" href=\"/styles/func/cat/BAR\">Bar &amp; Dining</a></li>\n",
       "<li class=\"pure-menu-item\"><a class=\"pure-menu-link\" href=\"/styles/func/cat/BED\">Upholstered Beds</a></li>\n",
       "<li class=\"pure-menu-item\"><a class=\"pure-menu-link\" href=\"/styles/func/cat/PTP\">Pillow Talk</a></li>\n",
       "<li class=\"pure-menu-item\"><a class=\"pure-menu-link\" href=\"/assets/docs/WH-Brandportfolio-SP.pdf\">Brand Portfolio <i aria-hidden=\"true\" class=\"fa fa-file-pdf-o\"></i></a></li>\n",
       "</ul>"
      ]
     },
     "execution_count": 9,
     "metadata": {},
     "output_type": "execute_result"
    }
   ],
   "source": [
    "categories"
   ]
  },
  {
   "cell_type": "code",
   "execution_count": null,
   "metadata": {},
   "outputs": [
    {
     "name": "stdout",
     "output_type": "stream",
     "text": [
      "********************\n",
      "********************\n",
      "********************\n",
      "********************\n",
      "********************\n",
      "********************\n",
      "********************\n",
      "********************\n",
      "********************\n",
      "********************\n"
     ]
    }
   ],
   "source": [
    "import os\n",
    "from bs4 import BeautifulSoup\n",
    "import requests\n",
    "import json\n",
    "\n",
    "\n",
    "\n",
    "def scrape_menu():\n",
    "\n",
    "\n",
    "    output_dir = 'utilities'\n",
    "    os.makedirs(output_dir, exist_ok=True)\n",
    "\n",
    "    req = requests.get(\"https://www.wesleyhall.com/styles/func/cat/PTP\")\n",
    "\n",
    "    soup = BeautifulSoup(req.content, \"html.parser\")\n",
    "\n",
    "\n",
    "    categories = soup.find('ul', class_=\"pure-menu-children\")\n",
    "\n",
    "    data = []\n",
    "\n",
    "    if categories:\n",
    "        li_children = categories.find_all('li', recursive=False)\n",
    "        for li in li_children:\n",
    "            # print(li)\n",
    "            categor = li.find('a', recursive=False)\n",
    "            category_name = categor.text.strip()\n",
    "            collections = li.find(\"ul\", recursive=False)\n",
    "            if collections:\n",
    "                current_colllect = collections.find_all(\"li\")\n",
    "                for item in current_colllect:\n",
    "\n",
    "                    data.append(\n",
    "                            {\n",
    "                                \"category_name\": category_name,\n",
    "                                \"collection_name\": item.find(\"a\").text.strip(),\n",
    "                                \"collection_link\": \"https://www.wesleyhall.com\" + item.find(\"a\").get(\"href\")\n",
    "                            },\n",
    "                    )\n",
    "            else:\n",
    "\n",
    "                data.append(\n",
    "                            {\n",
    "                                \"category_name\": category_name,\n",
    "                                \"collection_name\": category_name,\n",
    "                                \"collection_link\": \"https://www.wesleyhall.com\" + categor.get(\"href\")\n",
    "                            },\n",
    "                    )\n",
    "                \n",
    "\n",
    "    else:\n",
    "        print(\"No 'ul' with the class 'pure-menu-children' found.\")\n",
    "\n",
    "\n",
    "    output_file = 'utilities/category-collection.json'\n",
    "    with open(output_file, \"w\") as file:\n",
    "        json.dump(data, file, indent=4)\n",
    "\n",
    "    print(f\"Data successfully saved to {output_file}\")"
   ]
  },
  {
   "cell_type": "code",
   "execution_count": null,
   "metadata": {},
   "outputs": [],
   "source": []
  },
  {
   "cell_type": "code",
   "execution_count": 13,
   "metadata": {},
   "outputs": [
    {
     "name": "stdout",
     "output_type": "stream",
     "text": [
      "Data successfully saved to utilities/category-collection.json\n"
     ]
    }
   ],
   "source": [
    "import json\n",
    "\n",
    "# Filepath for the JSON file\n",
    "output_file = 'utilities/category-collection.json'\n",
    "\n",
    "# Save the `data` list to a JSON file\n",
    "with open(output_file, \"w\") as file:\n",
    "    json.dump(data, file, indent=4)\n",
    "\n",
    "print(f\"Data successfully saved to {output_file}\")"
   ]
  }
 ],
 "metadata": {
  "kernelspec": {
   "display_name": "Python 3",
   "language": "python",
   "name": "python3"
  },
  "language_info": {
   "codemirror_mode": {
    "name": "ipython",
    "version": 3
   },
   "file_extension": ".py",
   "mimetype": "text/x-python",
   "name": "python",
   "nbconvert_exporter": "python",
   "pygments_lexer": "ipython3",
   "version": "3.8.10"
  }
 },
 "nbformat": 4,
 "nbformat_minor": 2
}
